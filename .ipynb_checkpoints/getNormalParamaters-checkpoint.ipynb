{
 "cells": [
  {
   "cell_type": "code",
   "execution_count": 159,
   "metadata": {
    "collapsed": true
   },
   "outputs": [],
   "source": [
    "# 文件操作\n",
    "from operator import *\n",
    "# 正则表达式\n",
    "import re"
   ]
  },
  {
   "cell_type": "code",
   "execution_count": 160,
   "metadata": {
    "collapsed": true
   },
   "outputs": [],
   "source": [
    "# 打开文件\n",
    "f = open('src/test1')"
   ]
  },
  {
   "cell_type": "code",
   "execution_count": 161,
   "metadata": {
    "collapsed": false
   },
   "outputs": [],
   "source": [
    "# 链接们\n",
    "links = []"
   ]
  },
  {
   "cell_type": "code",
   "execution_count": 162,
   "metadata": {
    "collapsed": false
   },
   "outputs": [],
   "source": [
    "# 正则\n",
    "linkPattern = re.compile(r'(href=\".*?\\\")')"
   ]
  },
  {
   "cell_type": "code",
   "execution_count": 186,
   "metadata": {
    "collapsed": false
   },
   "outputs": [],
   "source": [
    "# 取到连接\n",
    "for line in f.readlines():\n",
    "    links = linkPattern.findall(line)\n",
    "\n",
    "# 参数值们\n",
    "paras = []\n",
    "# 用正则从链接中匹配参数值\n",
    "paraPattern = re.compile(r'(\\=.*?&amp;)')\n",
    "\n",
    "\n",
    "\n",
    "# 链接修剪并匹配\n",
    "for link in links:\n",
    "    # 修剪\n",
    "    link = link[6:-1]\n",
    "    # 匹配\n",
    "    paraList = paraPattern.findall(link)\n",
    "    for para in paraList:\n",
    "        # 插入参数值数组\n",
    "        paras.append(para[1:-5])\n",
    "# 写入文件\n",
    "output = open('src/1024normal.txt','w+')\n",
    "\n",
    "\n",
    "for p in paras:\n",
    "    output.write(p)\n",
    "output.close()"
   ]
  },
  {
   "cell_type": "code",
   "execution_count": null,
   "metadata": {
    "collapsed": false
   },
   "outputs": [],
   "source": []
  },
  {
   "cell_type": "code",
   "execution_count": null,
   "metadata": {
    "collapsed": false
   },
   "outputs": [],
   "source": []
  },
  {
   "cell_type": "code",
   "execution_count": null,
   "metadata": {
    "collapsed": false
   },
   "outputs": [],
   "source": []
  },
  {
   "cell_type": "code",
   "execution_count": null,
   "metadata": {
    "collapsed": true
   },
   "outputs": [],
   "source": []
  }
 ],
 "metadata": {
  "kernelspec": {
   "display_name": "Python [Root]",
   "language": "python",
   "name": "Python [Root]"
  },
  "language_info": {
   "codemirror_mode": {
    "name": "ipython",
    "version": 2
   },
   "file_extension": ".py",
   "mimetype": "text/x-python",
   "name": "python",
   "nbconvert_exporter": "python",
   "pygments_lexer": "ipython2",
   "version": "2.7.12"
  }
 },
 "nbformat": 4,
 "nbformat_minor": 0
}
