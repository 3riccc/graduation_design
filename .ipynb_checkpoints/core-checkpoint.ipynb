{
 "cells": [
  {
   "cell_type": "code",
   "execution_count": null,
   "metadata": {
    "collapsed": false
   },
   "outputs": [],
   "source": [
    "from operator import *\n",
    "import numpy as np\n",
    "# 区分测试集和训练集\n",
    "from sklearn.cross_validation import train_test_split\n",
    "# svm\n",
    "from sklearn import svm\n",
    "# knn\n",
    "from sklearn.neighbors import KNeighborsClassifier\n",
    "# 交叉验证\n",
    "from sklearn.cross_validation import cross_val_score\n",
    "# 画图\n",
    "import matplotlib.pyplot as plt"
   ]
  },
  {
   "cell_type": "code",
   "execution_count": null,
   "metadata": {
    "collapsed": false
   },
   "outputs": [],
   "source": [
    "# payload\n",
    "f_pl = open('src/payload.txt')\n",
    "# keyword\n",
    "f_key = open('src/key_list.txt')\n",
    "# normal requrire\n",
    "f_norm = open('src/normal_require.txt')"
   ]
  },
  {
   "cell_type": "code",
   "execution_count": null,
   "metadata": {
    "collapsed": false
   },
   "outputs": [],
   "source": [
    "# 先把读进来的东西变成数组\n",
    "pl_list = []\n",
    "for line in f_pl.readlines():\n",
    "    # 去掉最后的换行符\n",
    "    line=line.strip('\\n')\n",
    "    pl_list.append(line)\n",
    "key_list = []\n",
    "for line in f_key.readlines():\n",
    "    line=line.strip('\\n')\n",
    "    key_list.append(line)\n",
    "norm_list = []\n",
    "for line in f_norm.readlines():\n",
    "    line=line.strip('\\n')\n",
    "    norm_list.append(line)"
   ]
  },
  {
   "cell_type": "code",
   "execution_count": null,
   "metadata": {
    "collapsed": false
   },
   "outputs": [],
   "source": [
    "def changePayload(payload):\n",
    "    p_list = []\n",
    "    # 特殊字符转化\n",
    "    for i in payload:\n",
    "        ascii = ord(i)\n",
    "        if(ascii<48 or ascii>57 and ascii<65 or ascii>90 and ascii < 95 or ascii>95 and ascii<97 or ascii>122):\n",
    "            if(('ascii'+ str(ascii)) not in p_list):\n",
    "               p_list.append('ascii'+str(ascii))\n",
    "            if(i != \" \"):\n",
    "                payload = payload.replace(i,\" \")\n",
    "    # 16进制转化\n",
    "    payload = payload.split(\" \")\n",
    "    for word in payload:\n",
    "        if(word[0:2] == \"0x\"):\n",
    "            p_list.append(\"16hex\")\n",
    "            payload.remove(word)\n",
    "    # 无关单词转化,key保留\n",
    "    for word in payload:\n",
    "        # 在key list中的敏感词\n",
    "        if word in key_list:\n",
    "            p_list.append(word)\n",
    "        # 非敏感词\n",
    "        elif (\"normal_word\" not in p_list):\n",
    "            p_list.append(\"normal_word\")\n",
    "        else:\n",
    "            continue\n",
    "    return p_list"
   ]
  },
  {
   "cell_type": "code",
   "execution_count": null,
   "metadata": {
    "collapsed": false
   },
   "outputs": [],
   "source": [
    "# 创建文本训练集向量\n",
    "def createDocVec(payloads,requires):\n",
    "    vec = set([])\n",
    "    for doc in payloads:\n",
    "        vec = vec | set(doc)\n",
    "    for doc in requires:\n",
    "        vec = vec | set(doc)\n",
    "    return list(vec)"
   ]
  },
  {
   "cell_type": "code",
   "execution_count": null,
   "metadata": {
    "collapsed": false
   },
   "outputs": [],
   "source": [
    "# 为每一个训练样本生成一个向量，词集模型\n",
    "def wordToVec(vecList,doc):\n",
    "    returnVec = [0] * len(vecList)\n",
    "    for word in doc:\n",
    "        # 如果\n",
    "        if(word in vecList):\n",
    "            returnVec[vecList.index(word)] = 1\n",
    "        else:\n",
    "            print(\"word is not contained:  \" + word)\n",
    "    return returnVec"
   ]
  },
  {
   "cell_type": "code",
   "execution_count": null,
   "metadata": {
    "collapsed": false
   },
   "outputs": [],
   "source": [
    "# payload 和正常请求的数组转化\n",
    "payloads = []\n",
    "for pl in pl_list:\n",
    "    payloads.append(changePayload(pl))\n",
    "requires = []\n",
    "for req in norm_list:\n",
    "    requires.append(changePayload(req))\n",
    "# payload和正常请求的向量转化\n",
    "vec_list = createDocVec(payloads,requires)\n",
    "payloads_vec = []\n",
    "requires_vec = []\n",
    "for payload in payloads:\n",
    "    payloads_vec.append(wordToVec(vec_list,payload))\n",
    "for require in requires:\n",
    "    requires_vec.append(wordToVec(vec_list,require))\n",
    "# payload 向量和普通请求向量\n",
    "payloads_vec = np.array(payloads_vec)\n",
    "requires_vec = np.array(requires_vec)\n"
   ]
  },
  {
   "cell_type": "code",
   "execution_count": null,
   "metadata": {
    "collapsed": false
   },
   "outputs": [],
   "source": [
    "# 生成X\n",
    "X = np.concatenate((payloads_vec,requires_vec))"
   ]
  },
  {
   "cell_type": "code",
   "execution_count": null,
   "metadata": {
    "collapsed": false
   },
   "outputs": [],
   "source": [
    "# 生成Y\n",
    "Y = []\n",
    "for i in range(0,len(payloads_vec)):\n",
    "    Y.append(1)\n",
    "for i in range(0,len(requires_vec)):\n",
    "    Y.append(0)\n",
    "print 1"
   ]
  },
  {
   "cell_type": "code",
   "execution_count": null,
   "metadata": {
    "collapsed": false
   },
   "outputs": [],
   "source": [
    "# X_train,X_test,Y_train,Y_test = train_test_split(X,Y,test_size=0.3)\n",
    "# # knn\n",
    "knn = KNeighborsClassifier()\n",
    "# # 训练\n",
    "# knn.fit(X_train,Y_train)\n",
    "\n",
    "k_range = range(1, 31)\n",
    "k_scores = []\n",
    "for k in k_range:\n",
    "    knn = KNeighborsClassifier(n_neighbors=k)\n",
    "##    loss = -cross_val_score(knn, X, y, cv=10, scoring='mean_squared_error') # for regression\n",
    "    scores = cross_val_score(knn, X,Y, cv=10, scoring='accuracy') # for classification\n",
    "    k_scores.append(scores.mean())\n",
    "# print k_scores\n",
    "\n",
    "plt.plot(k_range, k_scores)\n",
    "plt.xlabel('Value of K for KNN')\n",
    "plt.ylabel('Cross-Validated Accuracy')\n",
    "plt.show()\n"
   ]
  },
  {
   "cell_type": "code",
   "execution_count": null,
   "metadata": {
    "collapsed": false
   },
   "outputs": [],
   "source": [
    "print knn.predict(X_test)"
   ]
  },
  {
   "cell_type": "code",
   "execution_count": null,
   "metadata": {
    "collapsed": false
   },
   "outputs": [],
   "source": [
    "print Y_test"
   ]
  },
  {
   "cell_type": "code",
   "execution_count": null,
   "metadata": {
    "collapsed": true
   },
   "outputs": [],
   "source": []
  },
  {
   "cell_type": "code",
   "execution_count": null,
   "metadata": {
    "collapsed": true
   },
   "outputs": [],
   "source": []
  }
 ],
 "metadata": {
  "kernelspec": {
   "display_name": "Python [Root]",
   "language": "python",
   "name": "Python [Root]"
  },
  "language_info": {
   "codemirror_mode": {
    "name": "ipython",
    "version": 2
   },
   "file_extension": ".py",
   "mimetype": "text/x-python",
   "name": "python",
   "nbconvert_exporter": "python",
   "pygments_lexer": "ipython2",
   "version": "2.7.12"
  }
 },
 "nbformat": 4,
 "nbformat_minor": 0
}
